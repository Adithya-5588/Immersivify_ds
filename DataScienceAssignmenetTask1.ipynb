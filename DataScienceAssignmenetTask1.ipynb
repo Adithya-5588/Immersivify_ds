{
  "nbformat": 4,
  "nbformat_minor": 0,
  "metadata": {
    "colab": {
      "provenance": [],
      "authorship_tag": "ABX9TyMW5hzGTQfulqWGjbLkqXFn",
      "include_colab_link": true
    },
    "kernelspec": {
      "name": "python3",
      "display_name": "Python 3"
    },
    "language_info": {
      "name": "python"
    }
  },
  "cells": [
    {
      "cell_type": "markdown",
      "metadata": {
        "id": "view-in-github",
        "colab_type": "text"
      },
      "source": [
        "<a href=\"https://colab.research.google.com/github/Adithya-5588/Immersivify_ds/blob/main/DataScienceAssignmenetTask1.ipynb\" target=\"_parent\"><img src=\"https://colab.research.google.com/assets/colab-badge.svg\" alt=\"Open In Colab\"/></a>"
      ]
    },
    {
      "cell_type": "code",
      "execution_count": 43,
      "metadata": {
        "id": "g2E2tcFTbPnt"
      },
      "outputs": [],
      "source": [
        "import pandas as pd\n",
        "import numpy as np\n",
        "from sklearn.model_selection import train_test_split, cross_val_score\n",
        "from sklearn.preprocessing import StandardScaler, LabelEncoder\n",
        "from sklearn.impute import SimpleImputer\n",
        "from sklearn.ensemble import RandomForestClassifier\n",
        "from sklearn.metrics import accuracy_score, classification_report, confusion_matrix\n",
        "import seaborn as sns\n",
        "import matplotlib.pyplot as plt"
      ]
    },
    {
      "cell_type": "code",
      "source": [
        "class TitanicSurvivalPredictor:\n",
        "    def __init__(self):\n",
        "        self.model = RandomForestClassifier(\n",
        "            n_estimators=100,\n",
        "            max_depth=10,\n",
        "            random_state=42\n",
        "        )\n",
        "        self.scaler = StandardScaler()\n",
        "        self.label_encoders = {}\n",
        "\n",
        "    def preprocess_data(self, df):\n",
        "        # Create a copy to avoid modifying original data\n",
        "        data = df.copy()\n",
        "\n",
        "        # Extract titles from names\n",
        "        data['Title'] = data['Name'].str.extract(' ([A-Za-z]+)\\.', expand=False)\n",
        "\n",
        "        # Group rare titles\n",
        "        title_mapping = {\n",
        "            'Mr': 'Mr',\n",
        "            'Miss': 'Miss',\n",
        "            'Mrs': 'Mrs',\n",
        "            'Master': 'Master',\n",
        "            'Dr': 'Rare',\n",
        "            'Rev': 'Rare',\n",
        "            'Col': 'Rare',\n",
        "            'Major': 'Rare',\n",
        "            'Mlle': 'Miss',\n",
        "            'Countess': 'Rare',\n",
        "            'Ms': 'Miss',\n",
        "            'Lady': 'Rare',\n",
        "            'Sir': 'Rare',\n",
        "            'Mme': 'Mrs',\n",
        "            'Don': 'Rare',\n",
        "            'Capt': 'Rare',\n",
        "            'Jonkheer': 'Rare',\n",
        "            'Dona': 'Rare'\n",
        "        }\n",
        "        data['Title'] = data['Title'].map(lambda x: title_mapping.get(x, 'Rare'))\n",
        "\n",
        "        # Extract deck from cabin\n",
        "        data['Deck'] = data['Cabin'].str[0]\n",
        "\n",
        "        # Feature engineering\n",
        "        data['FamilySize'] = data['SibSp'] + data['Parch'] + 1\n",
        "        data['IsAlone'] = (data['FamilySize'] == 1).astype(int)\n",
        "\n",
        "        # Select features for the model\n",
        "        features = ['Pclass', 'Sex', 'Age', 'Fare', 'Title', 'IsAlone',\n",
        "                   'FamilySize', 'Embarked', 'Deck']\n",
        "\n",
        "        # Create feature matrix\n",
        "        X = data[features].copy()\n",
        "\n",
        "        # Handle missing values\n",
        "        numeric_features = ['Age', 'Fare']\n",
        "        categorical_features = ['Sex', 'Embarked', 'Title', 'Deck']\n",
        "\n",
        "        # Impute numeric features\n",
        "        imputer = SimpleImputer(strategy='median')\n",
        "        X[numeric_features] = imputer.fit_transform(X[numeric_features])\n",
        "\n",
        "        # Impute categorical features\n",
        "        for feature in categorical_features:\n",
        "            X[feature].fillna('missing', inplace=True)\n",
        "\n",
        "        # Encode categorical variables\n",
        "        for feature in categorical_features:\n",
        "            if feature not in self.label_encoders:\n",
        "                self.label_encoders[feature] = LabelEncoder()\n",
        "                X[feature] = self.label_encoders[feature].fit_transform(X[feature])\n",
        "            else:\n",
        "                X[feature] = self.label_encoders[feature].transform(X[feature])\n",
        "\n",
        "        return X\n",
        "\n",
        "    def train(self, X_train, y_train):\n",
        "        # Scale features\n",
        "        X_train_scaled = self.scaler.fit_transform(X_train)\n",
        "\n",
        "        # Train the model\n",
        "        self.model.fit(X_train_scaled, y_train)\n",
        "\n",
        "        # Calculate feature importance\n",
        "        feature_importance = pd.DataFrame({\n",
        "            'feature': X_train.columns,\n",
        "            'importance': self.model.feature_importances_\n",
        "        }).sort_values('importance', ascending=False)\n",
        "\n",
        "        return feature_importance\n",
        "\n",
        "    def predict(self, X):\n",
        "        X_scaled = self.scaler.transform(X)\n",
        "        return self.model.predict(X)\n",
        "\n",
        "    def evaluate(self, X, y_true):\n",
        "        y_pred = self.predict(X)\n",
        "\n",
        "        # Calculate metrics\n",
        "        accuracy = accuracy_score(y_true, y_pred)\n",
        "        report = classification_report(y_true, y_pred)\n",
        "        conf_matrix = confusion_matrix(y_true, y_pred)\n",
        "\n",
        "        return {\n",
        "            'accuracy': accuracy,\n",
        "            'classification_report': report,\n",
        "            'confusion_matrix': conf_matrix\n",
        "        }\n"
      ],
      "metadata": {
        "id": "GVGcCbOebuYO"
      },
      "execution_count": 44,
      "outputs": []
    },
    {
      "cell_type": "code",
      "source": [
        "from google.colab import drive\n",
        "drive.mount('/content/drive')"
      ],
      "metadata": {
        "colab": {
          "base_uri": "https://localhost:8080/"
        },
        "id": "_LbW-K5Wb_4U",
        "outputId": "59c4ab2c-3f94-45f1-e660-5e75728d2482"
      },
      "execution_count": 45,
      "outputs": [
        {
          "output_type": "stream",
          "name": "stdout",
          "text": [
            "Drive already mounted at /content/drive; to attempt to forcibly remount, call drive.mount(\"/content/drive\", force_remount=True).\n"
          ]
        }
      ]
    },
    {
      "cell_type": "code",
      "source": [
        "# Load and prepare data\n",
        "data = pd.read_csv('https://drive.google.com/uc?id=1JzSsPgdhJVuDHVwXAYlK13CRVHIMqWaz&export=download')\n",
        "predictor = TitanicSurvivalPredictor()"
      ],
      "metadata": {
        "id": "gkUypwJvcwki"
      },
      "execution_count": 46,
      "outputs": []
    },
    {
      "cell_type": "code",
      "source": [
        "# Split features and target\n",
        "X = predictor.preprocess_data(data)\n",
        "y = data['Survived']"
      ],
      "metadata": {
        "id": "jEFhihaOcEnf",
        "colab": {
          "base_uri": "https://localhost:8080/"
        },
        "outputId": "624ffb63-2aaf-47d1-c992-585024d6a194"
      },
      "execution_count": 47,
      "outputs": [
        {
          "output_type": "stream",
          "name": "stderr",
          "text": [
            "<ipython-input-44-25ecf419f0ac>:65: FutureWarning: A value is trying to be set on a copy of a DataFrame or Series through chained assignment using an inplace method.\n",
            "The behavior will change in pandas 3.0. This inplace method will never work because the intermediate object on which we are setting values always behaves as a copy.\n",
            "\n",
            "For example, when doing 'df[col].method(value, inplace=True)', try using 'df.method({col: value}, inplace=True)' or df[col] = df[col].method(value) instead, to perform the operation inplace on the original object.\n",
            "\n",
            "\n",
            "  X[feature].fillna('missing', inplace=True)\n"
          ]
        }
      ]
    },
    {
      "cell_type": "code",
      "source": [
        "# Split data into training and testing sets\n",
        "X_train, X_test, y_train, y_test = train_test_split(\n",
        "    X, y, test_size=0.2, random_state=42\n",
        ")"
      ],
      "metadata": {
        "id": "jQ7VhaNxcIsc"
      },
      "execution_count": 48,
      "outputs": []
    },
    {
      "cell_type": "code",
      "source": [
        "# Train the model and get feature importance\n",
        "feature_importance = predictor.train(X_train, y_train)\n",
        "\n",
        "# Evaluate the model\n",
        "evaluation_results = predictor.evaluate(X_test, y_test)"
      ],
      "metadata": {
        "id": "zOwj_x--cMvl",
        "colab": {
          "base_uri": "https://localhost:8080/"
        },
        "outputId": "33a1d06c-0a02-4c38-964a-9907923511f6"
      },
      "execution_count": 49,
      "outputs": [
        {
          "output_type": "stream",
          "name": "stderr",
          "text": [
            "/usr/local/lib/python3.10/dist-packages/sklearn/utils/validation.py:2732: UserWarning: X has feature names, but RandomForestClassifier was fitted without feature names\n",
            "  warnings.warn(\n",
            "/usr/local/lib/python3.10/dist-packages/sklearn/metrics/_classification.py:1565: UndefinedMetricWarning: Precision is ill-defined and being set to 0.0 in labels with no predicted samples. Use `zero_division` parameter to control this behavior.\n",
            "  _warn_prf(average, modifier, f\"{metric.capitalize()} is\", len(result))\n",
            "/usr/local/lib/python3.10/dist-packages/sklearn/metrics/_classification.py:1565: UndefinedMetricWarning: Precision is ill-defined and being set to 0.0 in labels with no predicted samples. Use `zero_division` parameter to control this behavior.\n",
            "  _warn_prf(average, modifier, f\"{metric.capitalize()} is\", len(result))\n",
            "/usr/local/lib/python3.10/dist-packages/sklearn/metrics/_classification.py:1565: UndefinedMetricWarning: Precision is ill-defined and being set to 0.0 in labels with no predicted samples. Use `zero_division` parameter to control this behavior.\n",
            "  _warn_prf(average, modifier, f\"{metric.capitalize()} is\", len(result))\n"
          ]
        }
      ]
    },
    {
      "cell_type": "code",
      "source": [
        "# Print results\n",
        "print(\"\\nModel Performance:\")\n",
        "print(f\"Accuracy: {evaluation_results['accuracy']:.4f}\")\n",
        "print(\"\\nClassification Report:\")\n",
        "print(evaluation_results['classification_report'])\n",
        "print(\"\\nFeature Importance:\")\n",
        "print(feature_importance)"
      ],
      "metadata": {
        "id": "FF24stm8cQNz",
        "colab": {
          "base_uri": "https://localhost:8080/"
        },
        "outputId": "b1f5b4fa-bb24-424b-b603-338010afd7b4"
      },
      "execution_count": 50,
      "outputs": [
        {
          "output_type": "stream",
          "name": "stdout",
          "text": [
            "\n",
            "Model Performance:\n",
            "Accuracy: 0.5952\n",
            "\n",
            "Classification Report:\n",
            "              precision    recall  f1-score   support\n",
            "\n",
            "           0       0.60      1.00      0.75        50\n",
            "           1       0.00      0.00      0.00        34\n",
            "\n",
            "    accuracy                           0.60        84\n",
            "   macro avg       0.30      0.50      0.37        84\n",
            "weighted avg       0.35      0.60      0.44        84\n",
            "\n",
            "\n",
            "Feature Importance:\n",
            "      feature  importance\n",
            "1         Sex    0.743453\n",
            "4       Title    0.196293\n",
            "3        Fare    0.021809\n",
            "2         Age    0.013160\n",
            "6  FamilySize    0.007283\n",
            "8        Deck    0.006066\n",
            "5     IsAlone    0.005528\n",
            "0      Pclass    0.003524\n",
            "7    Embarked    0.002884\n"
          ]
        }
      ]
    }
  ]
}